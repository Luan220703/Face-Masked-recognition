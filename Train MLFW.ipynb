{
 "cells": [
  {
   "cell_type": "code",
   "execution_count": null,
   "metadata": {},
   "outputs": [],
   "source": [
    "import face_recognition\n",
    "import os\n",
    "import joblib\n",
    "\n",
    "# Step 1: Chuẩn bị dữ liệu\n",
    "dataset_path = \"/path/to/MLFW/dataset\"\n",
    "# Giả sử trong dataset_path có các thư mục tương ứng với từng người và chứa ảnh khuôn mặt của họ\n",
    "\n",
    "# Step 2: Cài đặt face_recognition\n",
    "# Đã được cài đặt từ lệnh 'pip install face_recognition'\n",
    "\n",
    "# Step 3: Xác định khuôn mặt\n",
    "face_locations = []\n",
    "for folder in os.listdir(dataset_path):\n",
    "    person_folder = os.path.join(dataset_path, folder)\n",
    "    if os.path.isdir(person_folder):\n",
    "        for filename in os.listdir(person_folder):\n",
    "            image_path = os.path.join(person_folder, filename)\n",
    "            image = face_recognition.load_image_file(image_path)\n",
    "            locations = face_recognition.face_locations(image)\n",
    "            face_locations.extend(locations)\n",
    "\n",
    "# Step 4: Chuẩn bị dữ liệu huấn luyện\n",
    "face_encodings = []\n",
    "labels = []\n",
    "for location in face_locations:\n",
    "    face_image = image[location[0]:location[2], location[3]:location[1]]\n",
    "    encoding = face_recognition.face_encodings(face_image)\n",
    "    if len(encoding) > 0:\n",
    "        face_encodings.append(encoding[0])\n",
    "        labels.append(\"person_name\")  # Thay thế \"person_name\" bằng tên của từng người tương ứng\n",
    "\n",
    "# Step 5: Huấn luyện mô hình\n",
    "model = svm.SVC()\n",
    "model.fit(face_encodings, labels)\n",
    "\n",
    "# Step 6: Lưu mô hình đã huấn luyện\n",
    "joblib.dump(model, \"face_recognition_model.joblib\")"
   ]
  }
 ],
 "metadata": {
  "kernelspec": {
   "display_name": "base",
   "language": "python",
   "name": "python3"
  },
  "language_info": {
   "name": "python",
   "version": "3.10.9"
  },
  "orig_nbformat": 4
 },
 "nbformat": 4,
 "nbformat_minor": 2
}
